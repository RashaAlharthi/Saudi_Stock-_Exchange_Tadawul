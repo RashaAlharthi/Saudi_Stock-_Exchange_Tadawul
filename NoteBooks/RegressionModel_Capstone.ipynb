{
 "cells": [
  {
   "cell_type": "code",
   "execution_count": 25,
   "id": "34aa24d6",
   "metadata": {},
   "outputs": [],
   "source": [
    "import pandas as pd\n",
    "import matplotlib.pyplot as plt # To create the plot\n",
    "import seaborn as sns\n",
    "import numpy as np \n",
    "from sklearn.model_selection import train_test_split\n",
    "from sklearn.metrics import mean_absolute_error, mean_squared_error\n",
    "from sklearn.preprocessing import StandardScaler\n",
    "\n",
    "#basline model\n",
    "from sklearn.dummy import DummyRegressor\n",
    "\n",
    "# This is for regression\n",
    "from sklearn.linear_model import LinearRegression\n",
    "from sklearn.ensemble import RandomForestRegressor\n",
    "from sklearn.neighbors import KNeighborsRegressor\n",
    "import xgboost as xgb\n",
    "from xgboost import XGBClassifier\n",
    "from sklearn.ensemble import GradientBoostingRegressor\n",
    "from sklearn.metrics import r2_score,mean_absolute_error,mean_squared_error\n",
    "\n",
    "# This is for Pipline\n",
    "from sklearn.pipeline import Pipeline \n",
    "from sklearn.pipeline import make_pipeline\n",
    "from sklearn.compose import ColumnTransformer\n",
    "from sklearn.impute import SimpleImputer\n",
    "\n",
    "# we used for the Grid search model\n",
    "from sklearn.model_selection import GridSearchCV "
   ]
  },
  {
   "cell_type": "markdown",
   "id": "bf6f68d4",
   "metadata": {},
   "source": [
    "### Read the dataset"
   ]
  },
  {
   "cell_type": "code",
   "execution_count": 3,
   "id": "eead0560",
   "metadata": {},
   "outputs": [],
   "source": [
    "tadawul_stcks = pd.read_csv('/Users/fatimah/Desktop/Tadawul_stcks_clean.csv')"
   ]
  },
  {
   "cell_type": "code",
   "execution_count": 4,
   "id": "1c5b3e39",
   "metadata": {},
   "outputs": [
    {
     "data": {
      "text/html": [
       "<div>\n",
       "<style scoped>\n",
       "    .dataframe tbody tr th:only-of-type {\n",
       "        vertical-align: middle;\n",
       "    }\n",
       "\n",
       "    .dataframe tbody tr th {\n",
       "        vertical-align: top;\n",
       "    }\n",
       "\n",
       "    .dataframe thead th {\n",
       "        text-align: right;\n",
       "    }\n",
       "</style>\n",
       "<table border=\"1\" class=\"dataframe\">\n",
       "  <thead>\n",
       "    <tr style=\"text-align: right;\">\n",
       "      <th></th>\n",
       "      <th>trading_name</th>\n",
       "      <th>sector</th>\n",
       "      <th>date</th>\n",
       "      <th>open_price</th>\n",
       "      <th>high_price</th>\n",
       "      <th>low_price</th>\n",
       "      <th>close_price</th>\n",
       "      <th>change</th>\n",
       "      <th>perc_Change</th>\n",
       "      <th>volume_traded</th>\n",
       "      <th>value_traded</th>\n",
       "      <th>num_trades</th>\n",
       "      <th>Year</th>\n",
       "      <th>month</th>\n",
       "      <th>day</th>\n",
       "      <th>Change_category</th>\n",
       "    </tr>\n",
       "  </thead>\n",
       "  <tbody>\n",
       "    <tr>\n",
       "      <th>0</th>\n",
       "      <td>SARCO</td>\n",
       "      <td>Energy</td>\n",
       "      <td>2020-03-05</td>\n",
       "      <td>35.55</td>\n",
       "      <td>35.85</td>\n",
       "      <td>34.90</td>\n",
       "      <td>34.90</td>\n",
       "      <td>-0.40</td>\n",
       "      <td>-1.13</td>\n",
       "      <td>436609.0</td>\n",
       "      <td>15399073.50</td>\n",
       "      <td>804.0</td>\n",
       "      <td>2020</td>\n",
       "      <td>March</td>\n",
       "      <td>Thursday</td>\n",
       "      <td>Bad Change</td>\n",
       "    </tr>\n",
       "    <tr>\n",
       "      <th>1</th>\n",
       "      <td>SARCO</td>\n",
       "      <td>Energy</td>\n",
       "      <td>2020-03-04</td>\n",
       "      <td>34.70</td>\n",
       "      <td>35.65</td>\n",
       "      <td>34.50</td>\n",
       "      <td>35.30</td>\n",
       "      <td>0.25</td>\n",
       "      <td>0.71</td>\n",
       "      <td>737624.0</td>\n",
       "      <td>25981391.35</td>\n",
       "      <td>1268.0</td>\n",
       "      <td>2020</td>\n",
       "      <td>March</td>\n",
       "      <td>Wednesday</td>\n",
       "      <td>Good Change</td>\n",
       "    </tr>\n",
       "    <tr>\n",
       "      <th>2</th>\n",
       "      <td>SARCO</td>\n",
       "      <td>Energy</td>\n",
       "      <td>2020-03-03</td>\n",
       "      <td>34.70</td>\n",
       "      <td>35.15</td>\n",
       "      <td>34.70</td>\n",
       "      <td>35.05</td>\n",
       "      <td>1.05</td>\n",
       "      <td>3.09</td>\n",
       "      <td>489831.0</td>\n",
       "      <td>17116413.40</td>\n",
       "      <td>854.0</td>\n",
       "      <td>2020</td>\n",
       "      <td>March</td>\n",
       "      <td>Tuesday</td>\n",
       "      <td>Good Change</td>\n",
       "    </tr>\n",
       "    <tr>\n",
       "      <th>3</th>\n",
       "      <td>SARCO</td>\n",
       "      <td>Energy</td>\n",
       "      <td>2020-03-02</td>\n",
       "      <td>35.20</td>\n",
       "      <td>35.65</td>\n",
       "      <td>34.00</td>\n",
       "      <td>34.00</td>\n",
       "      <td>-0.55</td>\n",
       "      <td>-1.59</td>\n",
       "      <td>736157.0</td>\n",
       "      <td>25858700.60</td>\n",
       "      <td>1242.0</td>\n",
       "      <td>2020</td>\n",
       "      <td>March</td>\n",
       "      <td>Monday</td>\n",
       "      <td>Bad Change</td>\n",
       "    </tr>\n",
       "    <tr>\n",
       "      <th>4</th>\n",
       "      <td>SARCO</td>\n",
       "      <td>Energy</td>\n",
       "      <td>2020-03-01</td>\n",
       "      <td>35.35</td>\n",
       "      <td>35.60</td>\n",
       "      <td>34.25</td>\n",
       "      <td>34.55</td>\n",
       "      <td>-2.05</td>\n",
       "      <td>-5.60</td>\n",
       "      <td>738685.0</td>\n",
       "      <td>25747967.55</td>\n",
       "      <td>1625.0</td>\n",
       "      <td>2020</td>\n",
       "      <td>March</td>\n",
       "      <td>Sunday</td>\n",
       "      <td>Bad Change</td>\n",
       "    </tr>\n",
       "  </tbody>\n",
       "</table>\n",
       "</div>"
      ],
      "text/plain": [
       "  trading_name  sector        date  open_price  high_price  low_price  \\\n",
       "0        SARCO  Energy  2020-03-05       35.55       35.85      34.90   \n",
       "1        SARCO  Energy  2020-03-04       34.70       35.65      34.50   \n",
       "2        SARCO  Energy  2020-03-03       34.70       35.15      34.70   \n",
       "3        SARCO  Energy  2020-03-02       35.20       35.65      34.00   \n",
       "4        SARCO  Energy  2020-03-01       35.35       35.60      34.25   \n",
       "\n",
       "   close_price  change  perc_Change  volume_traded  value_traded  num_trades  \\\n",
       "0        34.90   -0.40        -1.13       436609.0   15399073.50       804.0   \n",
       "1        35.30    0.25         0.71       737624.0   25981391.35      1268.0   \n",
       "2        35.05    1.05         3.09       489831.0   17116413.40       854.0   \n",
       "3        34.00   -0.55        -1.59       736157.0   25858700.60      1242.0   \n",
       "4        34.55   -2.05        -5.60       738685.0   25747967.55      1625.0   \n",
       "\n",
       "   Year  month        day Change_category  \n",
       "0  2020  March   Thursday      Bad Change  \n",
       "1  2020  March  Wednesday     Good Change  \n",
       "2  2020  March    Tuesday     Good Change  \n",
       "3  2020  March     Monday      Bad Change  \n",
       "4  2020  March     Sunday      Bad Change  "
      ]
     },
     "execution_count": 4,
     "metadata": {},
     "output_type": "execute_result"
    }
   ],
   "source": [
    "# look frist five rows \n",
    "tadawul_stcks.head()"
   ]
  },
  {
   "cell_type": "markdown",
   "id": "a7d10af0",
   "metadata": {},
   "source": [
    "# ML model"
   ]
  },
  {
   "cell_type": "markdown",
   "id": "685b7eb0",
   "metadata": {},
   "source": [
    "## Select the feature and target"
   ]
  },
  {
   "cell_type": "code",
   "execution_count": 5,
   "id": "c9cc9ef2",
   "metadata": {},
   "outputs": [],
   "source": [
    "target = 'close_price' # Target Varible\n",
    "features = ['open_price','low_price','change']\n",
    "\n",
    "\n",
    "X = tadawul_stcks[features]\n",
    "y = tadawul_stcks[target]"
   ]
  },
  {
   "cell_type": "markdown",
   "id": "4bfd076b",
   "metadata": {},
   "source": [
    "## Standard Scaler"
   ]
  },
  {
   "cell_type": "code",
   "execution_count": 6,
   "id": "a692738e",
   "metadata": {},
   "outputs": [],
   "source": [
    "scaler = StandardScaler()\n",
    "scaled_df = scaler.fit_transform(X)"
   ]
  },
  {
   "cell_type": "markdown",
   "id": "7f4e8b5a",
   "metadata": {},
   "source": [
    "## Split the data"
   ]
  },
  {
   "cell_type": "code",
   "execution_count": 7,
   "id": "24200141",
   "metadata": {},
   "outputs": [],
   "source": [
    "# split data into train and test \n",
    "# select random state = 42\n",
    "X_train, X_test, y_train, y_test = train_test_split(X, y, random_state=42)"
   ]
  },
  {
   "cell_type": "markdown",
   "id": "203ae4ef",
   "metadata": {},
   "source": [
    "## Baseline model"
   ]
  },
  {
   "cell_type": "code",
   "execution_count": 10,
   "id": "5d0fd4e4",
   "metadata": {},
   "outputs": [
    {
     "name": "stdout",
     "output_type": "stream",
     "text": [
      "baseline model score: -1.33849496373184e-05\n"
     ]
    }
   ],
   "source": [
    "# we will use the DummyRegressor model for the basline\n",
    "baseline_model = DummyRegressor()\n",
    "baseline_model.fit(X_train,y_train)\n",
    "baseline_model_pred =  baseline_model.predict(X_test)\n",
    "\n",
    "print(f\"baseline model score: {r2_score(y_test, baseline_model_pred)}\")"
   ]
  },
  {
   "cell_type": "markdown",
   "id": "b90e3231",
   "metadata": {},
   "source": [
    "# Train Model"
   ]
  },
  {
   "cell_type": "markdown",
   "id": "bf3b1ebb",
   "metadata": {},
   "source": [
    "### 1st Liner Regression Model "
   ]
  },
  {
   "cell_type": "code",
   "execution_count": 11,
   "id": "cf8c9d4b",
   "metadata": {},
   "outputs": [],
   "source": [
    "#create the model\n",
    "liner = LinearRegression()\n",
    "# fit the model using X train and y train\n",
    "liner.fit(X_train , y_train)\n",
    "# using X test to make our predication\n",
    "linear_pred = liner.predict(X_test)"
   ]
  },
  {
   "cell_type": "markdown",
   "id": "b47a8675",
   "metadata": {},
   "source": [
    "### Train and Test score"
   ]
  },
  {
   "cell_type": "code",
   "execution_count": 15,
   "id": "789f96d5",
   "metadata": {},
   "outputs": [
    {
     "name": "stdout",
     "output_type": "stream",
     "text": [
      "Test score: 0.999605900045618\n",
      "Train score: 0.9993704661079523\n"
     ]
    }
   ],
   "source": [
    "print(f\"Test score: {liner.score(X_test, y_test)}\")\n",
    "print(f\"Train score: {liner.score(X_train, y_train)}\")"
   ]
  },
  {
   "cell_type": "markdown",
   "id": "d8a297ec",
   "metadata": {},
   "source": [
    "# --------------------------------------------------------------------------------------"
   ]
  },
  {
   "cell_type": "markdown",
   "id": "8b8eea6d",
   "metadata": {},
   "source": [
    "### 2nd Random Forest regression"
   ]
  },
  {
   "cell_type": "code",
   "execution_count": 12,
   "id": "4ae1dee7",
   "metadata": {},
   "outputs": [
    {
     "name": "stderr",
     "output_type": "stream",
     "text": [
      "/Users/fatimah/opt/anaconda3/lib/python3.9/site-packages/sklearn/ensemble/_forest.py:396: FutureWarning: Criterion 'mse' was deprecated in v1.0 and will be removed in version 1.2. Use `criterion='squared_error'` which is equivalent.\n",
      "  warn(\n"
     ]
    }
   ],
   "source": [
    "# create the random model\n",
    "# set the num of estimators = 10\n",
    "# max depth is 4 \n",
    "random_reg = RandomForestRegressor(n_estimators = 10, max_depth = 4, criterion = 'mse')\n",
    "# fit the model using X train and Y train\n",
    "random_reg.fit(X_train ,y_train)\n",
    "# make our predication using X test\n",
    "random_predict =random_reg.predict(X_test)\n"
   ]
  },
  {
   "cell_type": "markdown",
   "id": "3c3f93c2",
   "metadata": {},
   "source": [
    "### Train and Test Score"
   ]
  },
  {
   "cell_type": "code",
   "execution_count": 17,
   "id": "4d4d1c55",
   "metadata": {},
   "outputs": [
    {
     "name": "stdout",
     "output_type": "stream",
     "text": [
      "Test score: 0.9877978808475945\n",
      "Train score: 0.9880452299578147\n"
     ]
    }
   ],
   "source": [
    "print(f\"Test score: {random_reg.score(X_test, y_test)}\")\n",
    "print(f\"Train score: {random_reg.score(X_train, y_train)}\")"
   ]
  },
  {
   "cell_type": "markdown",
   "id": "c9afeca4",
   "metadata": {},
   "source": [
    "# ---------------------------------------------------------------------------------------"
   ]
  },
  {
   "cell_type": "markdown",
   "id": "24da8259",
   "metadata": {},
   "source": [
    "### 3rd KNN  Regression model"
   ]
  },
  {
   "cell_type": "code",
   "execution_count": 15,
   "id": "802c4ded",
   "metadata": {},
   "outputs": [],
   "source": [
    "# Creat the KNN model\n",
    "knn_reg = KNeighborsRegressor()\n",
    "# use X train and y train\n",
    "knn_reg.fit(X_train,y_train)\n",
    "# make our predication using X test\n",
    "preds_knn_reg = knn_reg.predict(X_test)\n"
   ]
  },
  {
   "cell_type": "markdown",
   "id": "eb06e940",
   "metadata": {},
   "source": [
    "### Train and Test Score"
   ]
  },
  {
   "cell_type": "code",
   "execution_count": 22,
   "id": "472cfa19",
   "metadata": {},
   "outputs": [
    {
     "name": "stdout",
     "output_type": "stream",
     "text": [
      "Test score: 0.9995150671521293\n",
      "Train score: 0.9992696578602894\n"
     ]
    }
   ],
   "source": [
    "print(f\"Test score: {knn_reg.score(X_test, y_test)}\")\n",
    "print(f\"Train score: {knn_reg.score(X_train, y_train)}\")"
   ]
  },
  {
   "cell_type": "markdown",
   "id": "a83a9082",
   "metadata": {},
   "source": [
    "# ----------------------------------------------------------------------------------------"
   ]
  },
  {
   "cell_type": "markdown",
   "id": "4e65b1a4",
   "metadata": {},
   "source": [
    "### 4th GBR  Regression model"
   ]
  },
  {
   "cell_type": "code",
   "execution_count": 16,
   "id": "8da76c6e",
   "metadata": {},
   "outputs": [],
   "source": [
    "gbr_reg = GradientBoostingRegressor()\n",
    "# fit the model\n",
    "gbr_reg.fit(X_train,y_train)\n",
    "# make our predication using X test\n",
    "preds_gbr_reg = gbr_reg.predict(X_test)"
   ]
  },
  {
   "cell_type": "markdown",
   "id": "5ef53fd9",
   "metadata": {},
   "source": [
    "## Train and test score"
   ]
  },
  {
   "cell_type": "code",
   "execution_count": 24,
   "id": "60a1c6c4",
   "metadata": {},
   "outputs": [
    {
     "name": "stdout",
     "output_type": "stream",
     "text": [
      "Test score: 0.9992229481338691\n",
      "Train score: 0.999618349600064\n"
     ]
    }
   ],
   "source": [
    "print(f\"Test score: {gbr_reg.score(X_test, y_test)}\")\n",
    "print(f\"Train score: {gbr_reg.score(X_train, y_train)}\")"
   ]
  },
  {
   "cell_type": "markdown",
   "id": "4d488125",
   "metadata": {},
   "source": [
    "# -----------------------------------------------------------------------------------------"
   ]
  },
  {
   "cell_type": "markdown",
   "id": "1114d756",
   "metadata": {},
   "source": [
    "### 5th XGB Regression Model"
   ]
  },
  {
   "cell_type": "code",
   "execution_count": 17,
   "id": "b7cb5ec5",
   "metadata": {},
   "outputs": [
    {
     "name": "stdout",
     "output_type": "stream",
     "text": [
      "[16:11:35] WARNING: /Users/runner/work/xgboost/xgboost/python-package/build/temp.macosx-10.9-x86_64-cpython-38/xgboost/src/objective/regression_obj.cu:213: reg:linear is now deprecated in favor of reg:squarederror.\n"
     ]
    }
   ],
   "source": [
    "# create the model\n",
    "xgb_reg = xgb.XGBRegressor(objective = \"reg:linear\",\n",
    "                           n_estimators = 75,\n",
    "                           subsample = 0.75,\n",
    "                           max_depth = 7)\n",
    "# fit the model using X train , y train\n",
    "xgb_reg.fit(X_train , y_train)\n",
    "#make our predication using X test\n",
    "xgb_pred =xgb_reg.predict(X_test)"
   ]
  },
  {
   "cell_type": "code",
   "execution_count": 26,
   "id": "8b04bbec",
   "metadata": {},
   "outputs": [
    {
     "name": "stdout",
     "output_type": "stream",
     "text": [
      "Test score: 0.9991932701703619\n",
      "Train score: 0.9999117619114631\n"
     ]
    }
   ],
   "source": [
    "print(f\"Test score: {xgb_reg.score(X_test, y_test)}\")\n",
    "print(f\"Train score: {xgb_reg.score(X_train, y_train)}\")"
   ]
  },
  {
   "cell_type": "markdown",
   "id": "d997fa46",
   "metadata": {},
   "source": [
    "# ----------------------------------------------------------------------------------------"
   ]
  },
  {
   "cell_type": "markdown",
   "id": "75691ae4",
   "metadata": {},
   "source": [
    "# Model Evaluation\n",
    "\n"
   ]
  },
  {
   "cell_type": "markdown",
   "id": "06509057",
   "metadata": {},
   "source": [
    "### Create funaction for Cost Funcation"
   ]
  },
  {
   "cell_type": "markdown",
   "id": "68ed7911",
   "metadata": {},
   "source": [
    "####  This include  MSE, MAE,RMSE, R2  "
   ]
  },
  {
   "cell_type": "code",
   "execution_count": 18,
   "id": "2e6dbc50",
   "metadata": {},
   "outputs": [],
   "source": [
    "# Create cost function that display all the cost functions for the regression models\n",
    "def cost_function(pred):\n",
    "    Adj_r2 = 1 - (1-r2_score(y_test, pred)) * (len(y_test)-1)/(len(y_test)-X_test.shape[1]-1)\n",
    "    print(\"R Squared:\",r2_score(y_test, pred))\n",
    "    print(\"MSE:\",mean_squared_error(y_test, pred))\n",
    "    print(\"MAE:\",mean_absolute_error(y_test, pred))\n",
    "    print(\"RMSE:\",np.sqrt(mean_squared_error(y_test, pred)))\n",
    "    print(\"Adjusted R Squared:\",Adj_r2)\n",
    "    "
   ]
  },
  {
   "cell_type": "markdown",
   "id": "f6f0cc71",
   "metadata": {},
   "source": [
    "###  1st Model  Evaluation - Liner Regression Model"
   ]
  },
  {
   "cell_type": "code",
   "execution_count": 29,
   "id": "2c8ddbd8",
   "metadata": {},
   "outputs": [
    {
     "name": "stdout",
     "output_type": "stream",
     "text": [
      "R Squared: 0.999605900045618\n",
      "MSE: 2.844278557176044\n",
      "MAE: 0.4264164928631083\n",
      "RMSE: 1.6864989051808021\n",
      "Adjusted R Squared: 0.9996058918836075\n"
     ]
    }
   ],
   "source": [
    "## Call the funcation\n",
    "cost_function(linear_pred)"
   ]
  },
  {
   "cell_type": "markdown",
   "id": "812c8dc0",
   "metadata": {},
   "source": [
    "#### The output:\n",
    "#### the accuracy of this model is 99 % which is high and better than the basline accuracy\n",
    "#### MSE ,  MAE  and RMSE error it is very low \n"
   ]
  },
  {
   "cell_type": "markdown",
   "id": "4b4bb199",
   "metadata": {},
   "source": [
    "###  2nd Model  Evaluation - Random Forest Model"
   ]
  },
  {
   "cell_type": "code",
   "execution_count": 30,
   "id": "0edc5c9d",
   "metadata": {},
   "outputs": [
    {
     "name": "stdout",
     "output_type": "stream",
     "text": [
      "R Squared: 0.9877978808475945\n",
      "MSE: 88.06452645172568\n",
      "MAE: 5.740867009597165\n",
      "RMSE: 9.384270160844991\n",
      "Adjusted R Squared: 0.9877976281355019\n"
     ]
    }
   ],
   "source": [
    "## Call the funcation\n",
    "cost_function(random_predict)"
   ]
  },
  {
   "cell_type": "markdown",
   "id": "6266aaa6",
   "metadata": {},
   "source": [
    "#### the output:\n",
    "#### the acuraccy of Random forest is 98 which is better than the basline Model and less than the liner regression model. \n",
    "#### MSE , MAE and RMSE are high than logstic regression with value 84 and the 5.1 , 9.3"
   ]
  },
  {
   "cell_type": "markdown",
   "id": "fbadaa8e",
   "metadata": {},
   "source": [
    "###  3rd Model  Evaluation -KNN Model"
   ]
  },
  {
   "cell_type": "code",
   "execution_count": 32,
   "id": "2bc29d2a",
   "metadata": {},
   "outputs": [
    {
     "name": "stdout",
     "output_type": "stream",
     "text": [
      "R Squared: 0.9995150671521293\n",
      "MSE: 3.4998331908765845\n",
      "MAE: 0.30185866158582897\n",
      "RMSE: 1.8707841112422845\n",
      "Adjusted R Squared: 0.9995150571089235\n"
     ]
    }
   ],
   "source": [
    "## Call the funcation\n",
    "cost_function(preds_knn_reg)\n"
   ]
  },
  {
   "cell_type": "markdown",
   "id": "f46e97b3",
   "metadata": {},
   "source": [
    "#### The output :\n",
    "#### The accuracy of KNN model is 99 % which is good accuracy and better than the basline model and Random forest. Also , MSE ,  MAE and RMSE errors are lower than the random forcat ."
   ]
  },
  {
   "cell_type": "markdown",
   "id": "077643e5",
   "metadata": {},
   "source": [
    "###  4th Model  Evaluation -GBR Model"
   ]
  },
  {
   "cell_type": "code",
   "execution_count": 33,
   "id": "c39b210b",
   "metadata": {},
   "outputs": [
    {
     "name": "stdout",
     "output_type": "stream",
     "text": [
      "R Squared: 0.9992229481338691\n",
      "MSE: 5.608100016443012\n",
      "MAE: 0.6715781578684098\n",
      "RMSE: 2.368142735656576\n",
      "Adjusted R Squared: 0.9992229320407299\n"
     ]
    }
   ],
   "source": [
    "## Call the funcation\n",
    "cost_function(preds_gbr_reg)"
   ]
  },
  {
   "cell_type": "markdown",
   "id": "ccbe6c91",
   "metadata": {},
   "source": [
    "#### The output:\n",
    "#### The accuracy score of GBR model is 99 which is better than the basline and same KNN  and liner regression model "
   ]
  },
  {
   "cell_type": "markdown",
   "id": "d94735df",
   "metadata": {},
   "source": [
    "###  5th Model  Evaluation -XGB Model"
   ]
  },
  {
   "cell_type": "code",
   "execution_count": 34,
   "id": "fdfa5784",
   "metadata": {},
   "outputs": [
    {
     "name": "stdout",
     "output_type": "stream",
     "text": [
      "R Squared: 0.9991932701703619\n",
      "MSE: 5.822290336146822\n",
      "MAE: 0.3990513375335785\n",
      "RMSE: 2.412942257109942\n",
      "Adjusted R Squared: 0.9991932534625768\n"
     ]
    }
   ],
   "source": [
    "## Call the funcation\n",
    "cost_function(xgb_pred)\n"
   ]
  },
  {
   "cell_type": "markdown",
   "id": "f75f0f63",
   "metadata": {},
   "source": [
    "#### The accuracy score of XGB model is 99 which is better than the basline model and same all model , also the MSE , MAE and RSME error low "
   ]
  },
  {
   "cell_type": "markdown",
   "id": "fed6d782",
   "metadata": {},
   "source": [
    "##  Summary Result"
   ]
  },
  {
   "cell_type": "code",
   "execution_count": 31,
   "id": "885f85ef",
   "metadata": {},
   "outputs": [],
   "source": [
    "df_perf_metrics = pd.DataFrame(columns=['Model','R2','MSE', 'MAE', 'RMSE'])\n",
    "model_name = ['Baseline model', 'Linear Regression',  'Random Forest','KNN' , 'GBR' , 'XGB']\n",
    "model_pred = [baseline_model_pred, linear_pred, random_predict, preds_knn_reg ,preds_gbr_reg ,xgb_pred]\n",
    "\n",
    "def get_perf_metrics(model, n):\n",
    "    Adj_r2 = 1 - (1-r2_score(y_test, model_pred[n])) * (len(y_test)-1)/(len(y_test)-X_test.shape[1]-1)\n",
    "    \n",
    "    df_perf_metrics.loc[n] = [\n",
    "        model_name[n],\n",
    "        r2_score(y_test, model_pred[n]),\n",
    "        mean_squared_error(y_test, model_pred[n]),\n",
    "        mean_absolute_error(y_test, model_pred[n]),\n",
    "        np.sqrt(mean_squared_error(y_test, model_pred[n])),\n",
    "       # Adj_r2\n",
    "    ]\n",
    "        \n",
    "                \n",
    "for n, model in enumerate(model_name):\n",
    "    get_perf_metrics(model, n)"
   ]
  },
  {
   "cell_type": "code",
   "execution_count": 32,
   "id": "3385dbe7",
   "metadata": {},
   "outputs": [
    {
     "data": {
      "text/html": [
       "<div>\n",
       "<style scoped>\n",
       "    .dataframe tbody tr th:only-of-type {\n",
       "        vertical-align: middle;\n",
       "    }\n",
       "\n",
       "    .dataframe tbody tr th {\n",
       "        vertical-align: top;\n",
       "    }\n",
       "\n",
       "    .dataframe thead th {\n",
       "        text-align: right;\n",
       "    }\n",
       "</style>\n",
       "<table border=\"1\" class=\"dataframe\">\n",
       "  <thead>\n",
       "    <tr style=\"text-align: right;\">\n",
       "      <th></th>\n",
       "      <th>Model</th>\n",
       "      <th>R2</th>\n",
       "      <th>MSE</th>\n",
       "      <th>MAE</th>\n",
       "      <th>RMSE</th>\n",
       "    </tr>\n",
       "  </thead>\n",
       "  <tbody>\n",
       "    <tr>\n",
       "      <th>0</th>\n",
       "      <td>Baseline model</td>\n",
       "      <td>-0.000013</td>\n",
       "      <td>7217.246782</td>\n",
       "      <td>28.401061</td>\n",
       "      <td>84.954381</td>\n",
       "    </tr>\n",
       "    <tr>\n",
       "      <th>1</th>\n",
       "      <td>Linear Regression</td>\n",
       "      <td>0.999606</td>\n",
       "      <td>2.844279</td>\n",
       "      <td>0.426416</td>\n",
       "      <td>1.686499</td>\n",
       "    </tr>\n",
       "    <tr>\n",
       "      <th>2</th>\n",
       "      <td>Random Forest</td>\n",
       "      <td>0.987333</td>\n",
       "      <td>91.422137</td>\n",
       "      <td>5.789177</td>\n",
       "      <td>9.561492</td>\n",
       "    </tr>\n",
       "    <tr>\n",
       "      <th>3</th>\n",
       "      <td>KNN</td>\n",
       "      <td>0.999515</td>\n",
       "      <td>3.501239</td>\n",
       "      <td>0.301051</td>\n",
       "      <td>1.871160</td>\n",
       "    </tr>\n",
       "    <tr>\n",
       "      <th>4</th>\n",
       "      <td>GBR</td>\n",
       "      <td>0.999223</td>\n",
       "      <td>5.608102</td>\n",
       "      <td>0.671724</td>\n",
       "      <td>2.368143</td>\n",
       "    </tr>\n",
       "    <tr>\n",
       "      <th>5</th>\n",
       "      <td>XGB</td>\n",
       "      <td>0.999213</td>\n",
       "      <td>5.676292</td>\n",
       "      <td>0.396874</td>\n",
       "      <td>2.382497</td>\n",
       "    </tr>\n",
       "  </tbody>\n",
       "</table>\n",
       "</div>"
      ],
      "text/plain": [
       "               Model        R2          MSE        MAE       RMSE\n",
       "0     Baseline model -0.000013  7217.246782  28.401061  84.954381\n",
       "1  Linear Regression  0.999606     2.844279   0.426416   1.686499\n",
       "2      Random Forest  0.987333    91.422137   5.789177   9.561492\n",
       "3                KNN  0.999515     3.501239   0.301051   1.871160\n",
       "4                GBR  0.999223     5.608102   0.671724   2.368143\n",
       "5                XGB  0.999213     5.676292   0.396874   2.382497"
      ]
     },
     "execution_count": 32,
     "metadata": {},
     "output_type": "execute_result"
    }
   ],
   "source": [
    "df_perf_metrics"
   ]
  },
  {
   "cell_type": "markdown",
   "id": "25b56949",
   "metadata": {},
   "source": [
    "# ---------------------------------------------------------------------------------------"
   ]
  },
  {
   "cell_type": "markdown",
   "id": "9e19093a",
   "metadata": {},
   "source": [
    "# Model Selection \n",
    "#### After we created five regression models ( Liner, Random Forest, KNN, XGP, GBR ),  all these model values are positive.So, the regression model is better than the Baseline model\n",
    "#### We selected  Logstic regression Model because give as the best Accuracy and  Error\n",
    "#### R Squared: 0.999605900045618\n",
    "#### MSE: 2.8442785571761524\n",
    "#### MAE: 0.4264164928631798\n",
    "#### RMSE: 1.6864989051808341"
   ]
  },
  {
   "cell_type": "markdown",
   "id": "a9735d4e",
   "metadata": {},
   "source": [
    "## Model Optimization - Hyperparameter Tuning "
   ]
  },
  {
   "cell_type": "markdown",
   "id": "50f24a3a",
   "metadata": {},
   "source": [
    "## Liner Regression Model - Best Model"
   ]
  },
  {
   "cell_type": "code",
   "execution_count": 22,
   "id": "bcec15eb",
   "metadata": {},
   "outputs": [
    {
     "name": "stdout",
     "output_type": "stream",
     "text": [
      "Fitting 5 folds for each of 2 candidates, totalling 10 fits\n"
     ]
    }
   ],
   "source": [
    "param_grid_linear = {\"fit_intercept\": [True, False],\n",
    "                     \n",
    "                    }\n",
    "\n",
    "grid_linear_reg = GridSearchCV(estimator=liner,\n",
    "                               param_grid=param_grid_linear,\n",
    "                               scoring='r2',\n",
    "                               verbose=1,\n",
    "                               n_jobs=-1)\n",
    "\n",
    "# fit the model\n",
    "grid_linear_reg.fit(X_train, y_train)\n",
    "# make the predication\n",
    "grid=grid_linear_reg.predict(X_test)"
   ]
  },
  {
   "cell_type": "markdown",
   "id": "04bfc907",
   "metadata": {},
   "source": [
    "### Train and Test Score"
   ]
  },
  {
   "cell_type": "code",
   "execution_count": 197,
   "id": "8ca0a13f",
   "metadata": {},
   "outputs": [
    {
     "name": "stdout",
     "output_type": "stream",
     "text": [
      "Test score: 0.9995051650270971\n",
      "Train score: 0.9993856129670836\n"
     ]
    }
   ],
   "source": [
    "print(f\"Test score: {grid_linear_reg.score(X_test, y_test)}\")\n",
    "print(f\"Train score: {grid_linear_reg.score(X_train, y_train)}\")"
   ]
  },
  {
   "cell_type": "code",
   "execution_count": 23,
   "id": "56821c95",
   "metadata": {},
   "outputs": [
    {
     "name": "stdout",
     "output_type": "stream",
     "text": [
      "R Squared: 0.999605900045618\n",
      "MSE: 2.8442785571761524\n",
      "MAE: 0.4264164928631798\n",
      "RMSE: 1.6864989051808341\n",
      "Adjusted R Squared: 0.9996058918836075\n"
     ]
    }
   ],
   "source": [
    "## Call the funcation\n",
    "cost_function(grid)"
   ]
  },
  {
   "cell_type": "markdown",
   "id": "4135f3f6",
   "metadata": {},
   "source": [
    "#### the accuracy score and the MSE , MAE , RMSE same as Logstic regression nothing change"
   ]
  },
  {
   "cell_type": "markdown",
   "id": "83535a28",
   "metadata": {},
   "source": [
    "# ML Pipeline for Best Model - Liner Regression"
   ]
  },
  {
   "cell_type": "code",
   "execution_count": 26,
   "id": "adb8709a",
   "metadata": {},
   "outputs": [],
   "source": [
    "numeric_features = X_train.describe().columns # Select the numrical feature\n",
    "\n",
    "\n",
    "\n",
    "#Create Transformer for numerical data\n",
    "numeric_transformer = Pipeline(\n",
    "    steps=[\n",
    "        ('imputer', SimpleImputer(strategy=\"most_frequent\")),\n",
    "        ('scaler', StandardScaler())\n",
    "    ]\n",
    ")\n",
    "\n",
    "\n",
    "\n",
    "# Create a preprocessor transformer\n",
    "preprocessor = ColumnTransformer(\n",
    "    transformers=[\n",
    "        ('num', numeric_transformer, numeric_features),\n",
    "        \n",
    "    ]\n",
    ")"
   ]
  },
  {
   "cell_type": "markdown",
   "id": "0c6009dd",
   "metadata": {},
   "source": [
    "## Create the pipline"
   ]
  },
  {
   "cell_type": "code",
   "execution_count": 27,
   "id": "c67e4b70",
   "metadata": {},
   "outputs": [],
   "source": [
    "liner_reg_pp = Pipeline(\n",
    "    steps=[\n",
    "        ('preprocessor', preprocessor),# set the preprocessor\n",
    "        \n",
    "        ('reg',LinearRegression())# Create the Liner regression model\n",
    "    ]\n",
    ")"
   ]
  },
  {
   "cell_type": "markdown",
   "id": "6276bcf2",
   "metadata": {},
   "source": [
    "## Fit the model"
   ]
  },
  {
   "cell_type": "code",
   "execution_count": 28,
   "id": "a5f10a0f",
   "metadata": {},
   "outputs": [
    {
     "data": {
      "text/plain": [
       "Pipeline(steps=[('preprocessor',\n",
       "                 ColumnTransformer(transformers=[('num',\n",
       "                                                  Pipeline(steps=[('imputer',\n",
       "                                                                   SimpleImputer(strategy='most_frequent')),\n",
       "                                                                  ('scaler',\n",
       "                                                                   StandardScaler())]),\n",
       "                                                  Index(['open_price', 'low_price', 'change'], dtype='object'))])),\n",
       "                ('reg', LinearRegression())])"
      ]
     },
     "execution_count": 28,
     "metadata": {},
     "output_type": "execute_result"
    }
   ],
   "source": [
    "liner_reg_pp.fit(X_train,y_train)"
   ]
  },
  {
   "cell_type": "code",
   "execution_count": 29,
   "id": "104af03e",
   "metadata": {},
   "outputs": [],
   "source": [
    "# The predication X test feature\n",
    "pipline_predict=liner_reg_pp.predict(X_test)"
   ]
  },
  {
   "cell_type": "markdown",
   "id": "05dfd498",
   "metadata": {},
   "source": [
    "### Train and Test score"
   ]
  },
  {
   "cell_type": "code",
   "execution_count": 26,
   "id": "f1d95e8f",
   "metadata": {},
   "outputs": [
    {
     "name": "stdout",
     "output_type": "stream",
     "text": [
      "Test score: 0.9995051650270971\n",
      "Train score: 0.9993856129670836\n"
     ]
    }
   ],
   "source": [
    "print(f\"Test score: {liner_reg_pp.score(X_test, y_test)}\")\n",
    "print(f\"Train score: {liner_reg_pp.score(X_train, y_train)}\")"
   ]
  },
  {
   "cell_type": "markdown",
   "id": "4b86e928",
   "metadata": {},
   "source": [
    "### Model Evaluation"
   ]
  },
  {
   "cell_type": "code",
   "execution_count": 30,
   "id": "31530749",
   "metadata": {},
   "outputs": [
    {
     "name": "stdout",
     "output_type": "stream",
     "text": [
      "R Squared: 0.999605900045618\n",
      "MSE: 2.8442785571761515\n",
      "MAE: 0.4264164928631796\n",
      "RMSE: 1.686498905180834\n",
      "Adjusted R Squared: 0.9996058918836075\n"
     ]
    }
   ],
   "source": [
    "## Call the funcation\n",
    "cost_function(pipline_predict)"
   ]
  },
  {
   "cell_type": "code",
   "execution_count": null,
   "id": "bd895b70",
   "metadata": {},
   "outputs": [],
   "source": []
  }
 ],
 "metadata": {
  "kernelspec": {
   "display_name": "Python 3 (ipykernel)",
   "language": "python",
   "name": "python3"
  },
  "language_info": {
   "codemirror_mode": {
    "name": "ipython",
    "version": 3
   },
   "file_extension": ".py",
   "mimetype": "text/x-python",
   "name": "python",
   "nbconvert_exporter": "python",
   "pygments_lexer": "ipython3",
   "version": "3.9.12"
  }
 },
 "nbformat": 4,
 "nbformat_minor": 5
}
